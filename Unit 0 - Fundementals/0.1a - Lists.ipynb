{
 "cells": [
  {
   "metadata": {},
   "cell_type": "markdown",
   "source": [
    "1. Lists are defined with square brackets []\n",
    "2. Lists can contain (most) data types including other lists "
   ],
   "id": "1bc4adc17656b205"
  },
  {
   "metadata": {
    "ExecuteTime": {
     "end_time": "2024-08-21T17:24:16.477805Z",
     "start_time": "2024-08-21T17:24:16.453253Z"
    }
   },
   "cell_type": "code",
   "source": [
    "lst = ['hello', 2, 3.14, False, ['red', 'green', 'blue']]\n",
    "print(lst)\n"
   ],
   "id": "8600e3bf811248ad",
   "outputs": [
    {
     "name": "stdout",
     "output_type": "stream",
     "text": [
      "['hello', 2, 3.14, False, ['red', 'green', 'blue']]\n"
     ]
    }
   ],
   "execution_count": 41
  },
  {
   "metadata": {},
   "cell_type": "markdown",
   "source": [
    "1. Lists can be accessd using their index\n",
    "2. The first element in the list is index zero\n",
    "3. The last element can be access with the -1 index"
   ],
   "id": "e88b000841d9bb9b"
  },
  {
   "metadata": {
    "ExecuteTime": {
     "end_time": "2024-08-21T17:08:19.698155Z",
     "start_time": "2024-08-21T17:08:19.442617Z"
    }
   },
   "cell_type": "code",
   "source": [
    "print(lst[0])\n",
    "print(lst[1])\n",
    "print(lst[-1][3])"
   ],
   "id": "a8f8b7a7358df387",
   "outputs": [
    {
     "name": "stdout",
     "output_type": "stream",
     "text": [
      "hello\n",
      "2\n"
     ]
    },
    {
     "ename": "IndexError",
     "evalue": "list index out of range",
     "output_type": "error",
     "traceback": [
      "\u001B[1;31m---------------------------------------------------------------------------\u001B[0m",
      "\u001B[1;31mIndexError\u001B[0m                                Traceback (most recent call last)",
      "Cell \u001B[1;32mIn[6], line 3\u001B[0m\n\u001B[0;32m      1\u001B[0m \u001B[38;5;28mprint\u001B[39m(lst[\u001B[38;5;241m0\u001B[39m])\n\u001B[0;32m      2\u001B[0m \u001B[38;5;28mprint\u001B[39m(lst[\u001B[38;5;241m1\u001B[39m])\n\u001B[1;32m----> 3\u001B[0m \u001B[38;5;28mprint\u001B[39m(\u001B[43mlst\u001B[49m\u001B[43m[\u001B[49m\u001B[38;5;241;43m-\u001B[39;49m\u001B[38;5;241;43m1\u001B[39;49m\u001B[43m]\u001B[49m\u001B[43m[\u001B[49m\u001B[38;5;241;43m3\u001B[39;49m\u001B[43m]\u001B[49m)\n",
      "\u001B[1;31mIndexError\u001B[0m: list index out of range"
     ]
    }
   ],
   "execution_count": 6
  },
  {
   "metadata": {},
   "cell_type": "markdown",
   "source": "You can check the type of data with type()",
   "id": "99ce866adddcfef6"
  },
  {
   "metadata": {
    "ExecuteTime": {
     "end_time": "2024-08-21T17:10:32.800569Z",
     "start_time": "2024-08-21T17:10:32.784809Z"
    }
   },
   "cell_type": "code",
   "source": "print(type(lst[5]))",
   "id": "3f41f5efc3e0ddc9",
   "outputs": [
    {
     "ename": "IndexError",
     "evalue": "list index out of range",
     "output_type": "error",
     "traceback": [
      "\u001B[1;31m---------------------------------------------------------------------------\u001B[0m",
      "\u001B[1;31mIndexError\u001B[0m                                Traceback (most recent call last)",
      "Cell \u001B[1;32mIn[12], line 1\u001B[0m\n\u001B[1;32m----> 1\u001B[0m \u001B[38;5;28mprint\u001B[39m(\u001B[38;5;28mtype\u001B[39m(\u001B[43mlst\u001B[49m\u001B[43m[\u001B[49m\u001B[38;5;241;43m40\u001B[39;49m\u001B[43m]\u001B[49m))\n",
      "\u001B[1;31mIndexError\u001B[0m: list index out of range"
     ]
    }
   ],
   "execution_count": 12
  },
  {
   "metadata": {},
   "cell_type": "markdown",
   "source": "Accessing an index that does not exist will given an index error",
   "id": "e0ed5ac476380eb5"
  },
  {
   "metadata": {},
   "cell_type": "code",
   "source": "",
   "id": "cfedd51e22dd0084",
   "outputs": [],
   "execution_count": null
  },
  {
   "metadata": {},
   "cell_type": "markdown",
   "source": "A list holding other lists can be accessed using a 2-dimensional list",
   "id": "65998c75154bf2e"
  },
  {
   "metadata": {
    "ExecuteTime": {
     "end_time": "2024-08-21T17:11:22.822468Z",
     "start_time": "2024-08-21T17:11:22.795890Z"
    }
   },
   "cell_type": "code",
   "source": "print(lst[4][0])",
   "id": "db1bba5838339191",
   "outputs": [
    {
     "name": "stdout",
     "output_type": "stream",
     "text": [
      "red\n"
     ]
    }
   ],
   "execution_count": 13
  },
  {
   "metadata": {},
   "cell_type": "code",
   "outputs": [],
   "execution_count": null,
   "source": "",
   "id": "84c108b2a1e7dacc"
  },
  {
   "metadata": {},
   "cell_type": "markdown",
   "source": "You can also use slicing on a list like you can with strings",
   "id": "826966b062dfadc6"
  },
  {
   "metadata": {
    "ExecuteTime": {
     "end_time": "2024-08-21T17:13:04.976313Z",
     "start_time": "2024-08-21T17:13:04.949299Z"
    }
   },
   "cell_type": "code",
   "source": [
    "print(lst)\n",
    "print(lst[:3])"
   ],
   "id": "afdbc91751ba310f",
   "outputs": [
    {
     "name": "stdout",
     "output_type": "stream",
     "text": [
      "['hello', 2, 3.14, False, ['red', 'green', 'blue']]\n",
      "['hello', 2, 3.14]\n"
     ]
    }
   ],
   "execution_count": 18
  },
  {
   "metadata": {},
   "cell_type": "code",
   "outputs": [],
   "execution_count": null,
   "source": "",
   "id": "5eabf1698b51bb09"
  },
  {
   "metadata": {},
   "cell_type": "code",
   "outputs": [],
   "execution_count": null,
   "source": "",
   "id": "3ec756156dda792a"
  },
  {
   "metadata": {},
   "cell_type": "markdown",
   "source": [
    "You can add elements to a list by specifying the index they should be added into. \n",
    "\n",
    "The element replaces the element currently in that positon"
   ],
   "id": "b111a88cc8e3b748"
  },
  {
   "metadata": {
    "ExecuteTime": {
     "end_time": "2024-08-21T17:19:07.846290Z",
     "start_time": "2024-08-21T17:19:07.825847Z"
    }
   },
   "cell_type": "code",
   "source": [
    "print(lst)\n",
    "lst[1] = 'Goodbye' #Replace element at index 1 with new data\n",
    "print(lst)\n",
    "lst[-1] = [1,2,3]\n",
    "print(lst)\n",
    "lst[-1][1] = 10\n",
    "print(lst)"
   ],
   "id": "dd25cb3b4aee9593",
   "outputs": [
    {
     "name": "stdout",
     "output_type": "stream",
     "text": [
      "['hello', 'Goodbye', 3.14, False, [1, 2, 3]]\n",
      "['hello', 'Goodbye', 3.14, False, [1, 2, 3]]\n",
      "['hello', 'Goodbye', 3.14, False, [1, 2, 3]]\n",
      "['hello', 'Goodbye', 3.14, False, [1, 10, 3]]\n"
     ]
    }
   ],
   "execution_count": 36
  },
  {
   "metadata": {},
   "cell_type": "markdown",
   "source": "lists can be combined using '+'",
   "id": "e7905542c4f34edd"
  },
  {
   "metadata": {
    "ExecuteTime": {
     "end_time": "2024-08-23T16:38:50.125778Z",
     "start_time": "2024-08-23T16:38:50.109843Z"
    }
   },
   "cell_type": "code",
   "source": [
    "light_colors = ['yellow', 'white', 'pink']\n",
    "dark_colors = ['black', 'blue', 'purple']\n",
    "\n",
    "all_colors = light_colors + dark_colors\n",
    "print(all_colors)"
   ],
   "id": "16baedff119bec",
   "outputs": [
    {
     "name": "stdout",
     "output_type": "stream",
     "text": [
      "['yellow', 'white', 'pink', 'black', 'blue', 'purple']\n"
     ]
    }
   ],
   "execution_count": 54
  },
  {
   "metadata": {},
   "cell_type": "code",
   "outputs": [],
   "execution_count": null,
   "source": "",
   "id": "3f090bdb25eb0554"
  },
  {
   "metadata": {},
   "cell_type": "markdown",
   "source": "Items can be added to the end of a list using the .append method",
   "id": "aada3267d6da5cb7"
  },
  {
   "metadata": {
    "ExecuteTime": {
     "end_time": "2024-08-23T16:38:52.282008Z",
     "start_time": "2024-08-23T16:38:52.256403Z"
    }
   },
   "cell_type": "code",
   "source": [
    "\n",
    "a = ['cyan', 'orange']\n",
    "all_colors.append('brown')\n",
    "all_colors.append(dark_colors)\n",
    "all_colors.append('#FFFFFFF')\n",
    "print(all_colors)"
   ],
   "id": "9f2f655da96afb69",
   "outputs": [
    {
     "name": "stdout",
     "output_type": "stream",
     "text": [
      "['yellow', 'white', 'pink', 'black', 'blue', 'purple', 'brown', ['black', 'blue', 'purple'], '#FFFFFFF']\n"
     ]
    }
   ],
   "execution_count": 55
  },
  {
   "metadata": {},
   "cell_type": "code",
   "outputs": [],
   "execution_count": null,
   "source": "",
   "id": "fa29234319d52f80"
  },
  {
   "metadata": {},
   "cell_type": "markdown",
   "source": "The for command can loop through and act on individual elements",
   "id": "776b1f1ea4914ca5"
  },
  {
   "metadata": {
    "ExecuteTime": {
     "end_time": "2024-08-21T17:28:13.333229Z",
     "start_time": "2024-08-21T17:28:13.309711Z"
    }
   },
   "cell_type": "code",
   "source": [
    "# for color in all_colors:\n",
    "#     print(color)\n",
    "#     \n",
    "for i in range(len(all_colors)):\n",
    "    print(all_colors[i])"
   ],
   "id": "3c4d8251197a4f2a",
   "outputs": [
    {
     "name": "stdout",
     "output_type": "stream",
     "text": [
      "yellow\n",
      "white\n",
      "pink\n",
      "black\n",
      "blue\n",
      "purple\n",
      "brown\n",
      "['cyan', 'orange']\n",
      "brown\n",
      "['black', 'blue', 'purple']\n",
      "brown\n",
      "['black', 'blue', 'purple']\n",
      "#FFFFFFF\n"
     ]
    }
   ],
   "execution_count": 48
  },
  {
   "metadata": {},
   "cell_type": "markdown",
   "source": [
    "The .pop method removes an element and stores it into memory (if needed)\n",
    "If .pop is used without an argument it removes the last element "
   ],
   "id": "af763577784913e"
  },
  {
   "metadata": {
    "ExecuteTime": {
     "end_time": "2024-08-23T16:39:58.955901Z",
     "start_time": "2024-08-23T16:39:58.928479Z"
    }
   },
   "cell_type": "code",
   "source": [
    "print(all_colors)\n",
    "hex_code = all_colors.pop()\n",
    "print(hex_code)\n",
    "print(all_colors)\n",
    "\n",
    "fav_color = all_colors.pop(4)\n",
    "print(fav_color)"
   ],
   "id": "19b9b9ca567cd620",
   "outputs": [
    {
     "name": "stdout",
     "output_type": "stream",
     "text": [
      "['yellow', 'white', 'pink', 'black', 'blue', 'purple', 'brown', ['black', 'blue', 'purple']]\n",
      "['black', 'blue', 'purple']\n",
      "['yellow', 'white', 'pink', 'black', 'blue', 'purple', 'brown']\n",
      "blue\n"
     ]
    }
   ],
   "execution_count": 57
  },
  {
   "metadata": {
    "ExecuteTime": {
     "end_time": "2024-08-23T16:40:37.203639Z",
     "start_time": "2024-08-23T16:40:37.176469Z"
    }
   },
   "cell_type": "code",
   "source": "print(all_colors)",
   "id": "9cd155654b18d300",
   "outputs": [
    {
     "name": "stdout",
     "output_type": "stream",
     "text": [
      "['yellow', 'white', 'pink', 'black', 'purple', 'brown']\n"
     ]
    }
   ],
   "execution_count": 58
  },
  {
   "metadata": {},
   "cell_type": "markdown",
   "source": "We can also return the index location given a list element",
   "id": "2755cff464684031"
  },
  {
   "metadata": {
    "ExecuteTime": {
     "end_time": "2024-08-23T16:53:13.815917Z",
     "start_time": "2024-08-23T16:53:13.795314Z"
    }
   },
   "cell_type": "code",
   "source": [
    "colors = ['yellow', 'white', 'pink', 'black', 'purple', 'brown', 'purple']\n",
    "\n",
    "colors = list(set(colors))\n",
    "print(colors)\n",
    "\n",
    "a = '2'\n",
    "print(type(a))\n",
    "a = int(a)\n",
    "print(type(a))\n",
    "\n",
    "# print(colors.index('purple'))\n",
    "\n",
    "# c = colors.pop(colors.index('purple'))\n",
    "# print(c)\n",
    "# print(colors)\n",
    "\n",
    "# for some_color in colors:\n",
    "#     if some_color == 'purple':\n",
    "#         colors.pop(colors.index(some_color))\n",
    "#         \n",
    "# print(colors)"
   ],
   "id": "a009a63a00b749ed",
   "outputs": [
    {
     "name": "stdout",
     "output_type": "stream",
     "text": [
      "['yellow', 'pink', 'purple', 'black', 'white', 'brown']\n",
      "<class 'str'>\n",
      "<class 'int'>\n"
     ]
    }
   ],
   "execution_count": 75
  },
  {
   "metadata": {},
   "cell_type": "code",
   "outputs": [],
   "execution_count": null,
   "source": "",
   "id": "34df50ea454d5520"
  },
  {
   "metadata": {},
   "cell_type": "markdown",
   "source": "We can also use the 'in' command to see if an element exists in the list",
   "id": "536a63981b970156"
  },
  {
   "metadata": {
    "ExecuteTime": {
     "end_time": "2024-08-23T17:00:04.728636Z",
     "start_time": "2024-08-23T17:00:04.712902Z"
    }
   },
   "cell_type": "code",
   "source": [
    "colors = ['yellow', 'white', 'pink', 'black', 'purple', 'brown', 'purple', 'red']\n",
    "print('pin' in colors)\n",
    "\n",
    "if 'red' in colors:\n",
    "\n",
    "    where_is_red = colors.index('red')\n",
    "    colors.pop(colors.index('red'))\n",
    "    print(f'red removed, it was index, {where_is_red} in the list')\n",
    "else: \n",
    "    print(\"red is not in the list\")"
   ],
   "id": "84acf7a000e9dbbb",
   "outputs": [
    {
     "name": "stdout",
     "output_type": "stream",
     "text": [
      "False\n",
      "red removed, it was index, 7 in the list\n"
     ]
    }
   ],
   "execution_count": 82
  }
 ],
 "metadata": {
  "kernelspec": {
   "display_name": "Python 3",
   "language": "python",
   "name": "python3"
  },
  "language_info": {
   "codemirror_mode": {
    "name": "ipython",
    "version": 2
   },
   "file_extension": ".py",
   "mimetype": "text/x-python",
   "name": "python",
   "nbconvert_exporter": "python",
   "pygments_lexer": "ipython2",
   "version": "2.7.6"
  }
 },
 "nbformat": 4,
 "nbformat_minor": 5
}
