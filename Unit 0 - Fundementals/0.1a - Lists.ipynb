{
 "cells": [
  {
   "metadata": {},
   "cell_type": "markdown",
   "source": [
    "1. Lists are defined with square brackets []\n",
    "2. Lists can contain (most) data types including other lists "
   ],
   "id": "1bc4adc17656b205"
  },
  {
   "metadata": {},
   "cell_type": "code",
   "source": "",
   "id": "8600e3bf811248ad",
   "outputs": [],
   "execution_count": null
  },
  {
   "metadata": {},
   "cell_type": "markdown",
   "source": [
    "1. Lists can be accessd using their index\n",
    "2. The first element in the list is index zero\n",
    "3. The last element can be access with the -1 index"
   ],
   "id": "e88b000841d9bb9b"
  },
  {
   "metadata": {},
   "cell_type": "code",
   "source": "",
   "id": "a8f8b7a7358df387",
   "outputs": [],
   "execution_count": null
  },
  {
   "metadata": {},
   "cell_type": "markdown",
   "source": "You can check the type of data with type()",
   "id": "99ce866adddcfef6"
  },
  {
   "metadata": {},
   "cell_type": "code",
   "source": "",
   "id": "3f41f5efc3e0ddc9",
   "outputs": [],
   "execution_count": null
  },
  {
   "metadata": {},
   "cell_type": "markdown",
   "source": "Accessing an index that does not exist will given an index error",
   "id": "e0ed5ac476380eb5"
  },
  {
   "metadata": {},
   "cell_type": "code",
   "source": "",
   "id": "cfedd51e22dd0084",
   "outputs": [],
   "execution_count": null
  },
  {
   "metadata": {},
   "cell_type": "markdown",
   "source": "A list hoding other lists can be accessed using a 2-dimensional list",
   "id": "65998c75154bf2e"
  },
  {
   "metadata": {},
   "cell_type": "code",
   "source": "",
   "id": "db1bba5838339191",
   "outputs": [],
   "execution_count": null
  },
  {
   "metadata": {},
   "cell_type": "markdown",
   "source": "You can also use slicing on a list like you can with strings",
   "id": "826966b062dfadc6"
  },
  {
   "metadata": {},
   "cell_type": "code",
   "source": "",
   "id": "afdbc91751ba310f",
   "outputs": [],
   "execution_count": null
  },
  {
   "metadata": {},
   "cell_type": "markdown",
   "source": [
    "You can add elements to a list by specifying the index they should be added into. \n",
    "\n",
    "The element replaces the element currently in that positon"
   ],
   "id": "b111a88cc8e3b748"
  },
  {
   "metadata": {},
   "cell_type": "code",
   "source": "",
   "id": "dd25cb3b4aee9593",
   "outputs": [],
   "execution_count": null
  },
  {
   "metadata": {},
   "cell_type": "markdown",
   "source": "lists can be combined using '+'",
   "id": "e7905542c4f34edd"
  },
  {
   "metadata": {},
   "cell_type": "code",
   "source": "",
   "id": "16baedff119bec",
   "outputs": [],
   "execution_count": null
  },
  {
   "metadata": {},
   "cell_type": "markdown",
   "source": "Items can be added to the end of a list using the .append method",
   "id": "aada3267d6da5cb7"
  },
  {
   "metadata": {},
   "cell_type": "code",
   "source": "",
   "id": "9f2f655da96afb69",
   "outputs": [],
   "execution_count": null
  },
  {
   "metadata": {},
   "cell_type": "markdown",
   "source": "The for command can loop through and act on individual elements",
   "id": "776b1f1ea4914ca5"
  },
  {
   "metadata": {},
   "cell_type": "code",
   "source": "",
   "id": "3c4d8251197a4f2a",
   "outputs": [],
   "execution_count": null
  },
  {
   "metadata": {},
   "cell_type": "markdown",
   "source": [
    "The .pop method removes an element and stores it into memory (if needed)\n",
    "If .pop is used without an argument it removes the last element "
   ],
   "id": "af763577784913e"
  },
  {
   "metadata": {},
   "cell_type": "code",
   "source": "",
   "id": "19b9b9ca567cd620",
   "outputs": [],
   "execution_count": null
  },
  {
   "metadata": {},
   "cell_type": "markdown",
   "source": "We can also return the index location given a list element",
   "id": "2755cff464684031"
  },
  {
   "metadata": {},
   "cell_type": "code",
   "source": "",
   "id": "a009a63a00b749ed",
   "outputs": [],
   "execution_count": null
  },
  {
   "metadata": {},
   "cell_type": "markdown",
   "source": "We can also use the 'in' command to see if an element exists in the list",
   "id": "536a63981b970156"
  },
  {
   "metadata": {},
   "cell_type": "code",
   "source": "",
   "id": "84acf7a000e9dbbb",
   "outputs": [],
   "execution_count": null
  }
 ],
 "metadata": {
  "kernelspec": {
   "display_name": "Python 3",
   "language": "python",
   "name": "python3"
  },
  "language_info": {
   "codemirror_mode": {
    "name": "ipython",
    "version": 2
   },
   "file_extension": ".py",
   "mimetype": "text/x-python",
   "name": "python",
   "nbconvert_exporter": "python",
   "pygments_lexer": "ipython2",
   "version": "2.7.6"
  }
 },
 "nbformat": 4,
 "nbformat_minor": 5
}
